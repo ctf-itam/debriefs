{
 "cells": [
  {
   "cell_type": "markdown",
   "id": "2621296f",
   "metadata": {},
   "source": [
    "# Домашнее задание по Web Parsing\n",
    "********\n",
    "## Краткое описание\n",
    "В данном домашнем задании ты попробуешь разобрать конкретный сайт при помощи Selenium и обычного парсинга через requests. Тебе предстоит получить определенную информацию с конкретного сайта, который мы написали под тебя!\n",
    "******\n",
    "## Задачa:\n",
    "Вот [ссылка](https://rodion-de-front.github.io/RECIPES-ONLINE/) на сайт.\n",
    "\n",
    "Тебе предстоит получить с него следущие данные:\n",
    "* количество рецептов на букву Т\n",
    "* сообщение, которое появляется на букву Z\n",
    "* все названия блюд на букву F\n",
    "* все картинки блюд на букву V\n",
    "* все рецепты на букву W (картинки и названия)\n",
    "* все ингредиенты рецептов на букву O\n",
    "* скачать все картинки рецептов на букву O\n",
    "\n",
    "\n",
    "Выполнять данные задания нужно в этом ноутбуке, ниже ты увидишь разделы и место для кода под каждую задачу.\n",
    "\n",
    "Как все сделаешь, сохраняй этот notebook и кидай нам в форму по [ссылке](https://forms.gle/1TJcRY6U4rCRTH5B9)\n",
    "\n",
    "Почти все задания можно выполнить двумя вариантами:\n",
    "\n",
    "* через Selenium\n",
    "\n",
    "* через request\n",
    "\n",
    "Для разных заданий мы просим тебя выполнить либо одним, либо вторым, а где-то двумя вариантами!"
   ]
  },
  {
   "cell_type": "markdown",
   "id": "ae541b0c",
   "metadata": {},
   "source": [
    "# Selenium без Selenoid\n",
    "******\n",
    "Помню, что у многих возникли проблемы с установкой Selenoid из-за Docker. Если ты так и не разобрался и тебе лень, Selenium обновил работу с драйверами браузреов и ты можешь напрямую запускать со своего браузера Selenium с меньшей болью. Вот подробная [инструкция](https://www.selenium.dev/documentation/webdriver/getting_started/install_drivers/). \n",
    "\n",
    "Там ты найдешь manager, который поставит драйверы. После установки открой любой туториал, как запустить Selenium и возьми строчку с подключением driver по типу: \n",
    "\n",
    "``\n",
    "driver = webdriver.Chrome()\n",
    "``\n",
    "  \n",
    "...а дальше ты уже сможешь выполнять задания!"
   ]
  },
  {
   "cell_type": "markdown",
   "id": "919900ff",
   "metadata": {},
   "source": [
    "## Выполнение через requests. Пояснение\n",
    "*******\n",
    "Сайт динамический, если ты попробуешь получить его HTML markup через requests, то увидишь структуру, но для выполнения заданий нужно нажимать на кнопки, чего сделать ты не сможешь просто в HTML. Именно по этому предлагаем тебе использовать Selenium\n",
    "\n",
    "### **Но!**\n",
    "\n",
    "Можно пойти и другим путем\n",
    "Зайди на сайт и открой инструмены разработчика браузера (зачастую открывается кнопкой F12, сочетанием CTRL+SHIFT+i или нажми правой кнопкой мыши по любой части страницы и выбери \"Посмотреть код элемента\")\n",
    "\n",
    "После этого перейди во вкладку Network (Сеть):\n",
    "\n",
    "![Пример инструментов разработчика](https://drive.google.com/uc?id=17a5s2_C5O1I3eLm4vFDb2NYl2p0WCUm9)\n",
    "\n",
    "*****\n",
    "После этого нажми на любую кнопку на сайте и ты увидишь, как выполнился какой-то запрос + подгрузились картинки — и если на него кликнуть, то ты увидишь, что его источник — не наш сайт!\n",
    "\n",
    "![Пример действий сайта](https://drive.google.com/uc?id=1pAeSUBQGC_Y9fwktFBUxFHtUhnRsQpNF)\n",
    "\n",
    "******\n",
    "Это запрос на API, откуда берется JSON с данными. \n",
    "\n",
    "\"А где он?\" - спросите вы меня.\n",
    "\n",
    "\"Да прям там!\" - отвечу я вам. \n",
    "\n",
    "Переходим во вкладку Response или Preview и видим наш заветный JSON. Там есть абсолютно все, что нам нужно:\n",
    "\n",
    "![Пример JSON](https://drive.google.com/uc?id=1RWFn3agn4IkItoZMRmr0iW4QcZhghQLr)\n",
    "*****\n",
    "\n",
    "Думаем, что ты уже догадался, что делать :)\n",
    "\n",
    "P.S.: Смотрим, как строится запрос на API, туда вписываем нашу букву и делаем request.get по этому адресу. Дальше разбираем JSON согласно заданию.\n",
    "\n",
    "P.P.S: Удачи!"
   ]
  },
  {
   "cell_type": "markdown",
   "id": "faf1c198",
   "metadata": {},
   "source": [
    "## Количество рецептов на букву Т (двумя способами)"
   ]
  },
  {
   "cell_type": "code",
   "execution_count": null,
   "id": "58e6c626",
   "metadata": {},
   "outputs": [],
   "source": []
  },
  {
   "cell_type": "code",
   "execution_count": null,
   "id": "1f6b4d33",
   "metadata": {},
   "outputs": [],
   "source": []
  },
  {
   "cell_type": "markdown",
   "id": "3d1cea66",
   "metadata": {},
   "source": [
    "## Сообщение, которое появляется на букву Z (Selenium)"
   ]
  },
  {
   "cell_type": "code",
   "execution_count": null,
   "id": "3810334e",
   "metadata": {},
   "outputs": [],
   "source": []
  },
  {
   "cell_type": "markdown",
   "id": "527db4e8",
   "metadata": {},
   "source": [
    "## Все названия блюд на букву F (request)"
   ]
  },
  {
   "cell_type": "code",
   "execution_count": null,
   "id": "062ee968",
   "metadata": {},
   "outputs": [],
   "source": []
  },
  {
   "cell_type": "markdown",
   "id": "8364b472",
   "metadata": {},
   "source": [
    "## Все картинки блюд на букву V (двумя способами)"
   ]
  },
  {
   "cell_type": "code",
   "execution_count": null,
   "id": "4336f3fe",
   "metadata": {},
   "outputs": [],
   "source": []
  },
  {
   "cell_type": "code",
   "execution_count": null,
   "id": "d30299a9",
   "metadata": {},
   "outputs": [],
   "source": []
  },
  {
   "cell_type": "markdown",
   "id": "a28946db",
   "metadata": {},
   "source": [
    "## Все рецепты на букву W (картинки и названия) (Selenium)"
   ]
  },
  {
   "cell_type": "code",
   "execution_count": null,
   "id": "627f22e9",
   "metadata": {},
   "outputs": [],
   "source": []
  },
  {
   "cell_type": "markdown",
   "id": "cbd172cf",
   "metadata": {},
   "source": [
    "## Все ингредиенты рецептов на букву O (Selenium)"
   ]
  },
  {
   "cell_type": "code",
   "execution_count": null,
   "id": "49b0db3a",
   "metadata": {},
   "outputs": [],
   "source": []
  },
  {
   "cell_type": "markdown",
   "id": "f309744d",
   "metadata": {},
   "source": [
    "## Скачать все картинки рецептов на букву O (двумя способами) (разберитесь, как качать файлы через request и Selenium)"
   ]
  },
  {
   "cell_type": "code",
   "execution_count": null,
   "id": "fb58ae4f",
   "metadata": {},
   "outputs": [],
   "source": []
  },
  {
   "cell_type": "code",
   "execution_count": null,
   "id": "b78f8637",
   "metadata": {},
   "outputs": [],
   "source": []
  }
 ],
 "metadata": {
  "kernelspec": {
   "display_name": "web_parsing_env",
   "language": "python",
   "name": "web_parsing_env"
  },
  "language_info": {
   "codemirror_mode": {
    "name": "ipython",
    "version": 3
   },
   "file_extension": ".py",
   "mimetype": "text/x-python",
   "name": "python",
   "nbconvert_exporter": "python",
   "pygments_lexer": "ipython3",
   "version": "3.9.13"
  }
 },
 "nbformat": 4,
 "nbformat_minor": 5
}
