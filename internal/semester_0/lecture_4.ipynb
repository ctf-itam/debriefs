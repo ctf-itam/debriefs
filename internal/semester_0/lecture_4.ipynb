{
 "cells": [
  {
   "cell_type": "markdown",
   "metadata": {},
   "source": [
    "# Commands in GNU/Linux"
   ]
  },
  {
   "cell_type": "markdown",
   "metadata": {},
   "source": [
    "## Directory navigation"
   ]
  },
  {
   "cell_type": "code",
   "execution_count": null,
   "metadata": {},
   "outputs": [],
   "source": [
    "# List current directory contents\n",
    "print(\"`ls` command:\", end=' ')\n",
    "!ls\n",
    "print(\"`dir` command:\", end=' ')\n",
    "!dir"
   ]
  },
  {
   "cell_type": "code",
   "execution_count": null,
   "metadata": {},
   "outputs": [],
   "source": [
    "# Change Directory to the parent directory\n",
    "!cd .. && ls"
   ]
  },
  {
   "cell_type": "code",
   "execution_count": null,
   "metadata": {},
   "outputs": [],
   "source": [
    "# Make a new directory\n",
    "!ls\n",
    "!mkdir new_dir && ls\n",
    "\n",
    "# ---\n",
    "!rm -d new_dir"
   ]
  },
  {
   "cell_type": "code",
   "execution_count": null,
   "metadata": {},
   "outputs": [],
   "source": [
    "# Get the current working directory\n",
    "!pwd"
   ]
  },
  {
   "cell_type": "markdown",
   "metadata": {},
   "source": [
    "## File manipulation"
   ]
  },
  {
   "cell_type": "code",
   "execution_count": null,
   "metadata": {},
   "outputs": [],
   "source": [
    "# Create a new file\n",
    "!touch new_file.txt && ls\n",
    "\n",
    "# ---\n",
    "!rm new_file.txt"
   ]
  },
  {
   "cell_type": "code",
   "execution_count": null,
   "metadata": {},
   "outputs": [],
   "source": [
    "# Move a file\n",
    "!mkdir new_dir\n",
    "!touch new_file.txt\n",
    "# ---\n",
    "\n",
    "print(\"Before moving:\", end=' ')\n",
    "!ls\n",
    "!mv new_file.txt new_dir\n",
    "print(\"After moving:\", end=' ')\n",
    "!ls\n",
    "print(\"In new_dir:\", end=' ')\n",
    "!ls new_dir\n",
    "\n",
    "# ---\n",
    "!rm -rd new_dir\n"
   ]
  },
  {
   "cell_type": "code",
   "execution_count": null,
   "metadata": {},
   "outputs": [],
   "source": [
    "# Environment variables\n",
    "!echo $USER"
   ]
  },
  {
   "cell_type": "code",
   "execution_count": null,
   "metadata": {},
   "outputs": [],
   "source": [
    "# Set an environment variable\n",
    "print(\"Before setting:\", end=' ')\n",
    "!echo $MY_VAR\n",
    "print(\"After setting:\", end=' ')\n",
    "!export MY_VAR=\"Hello World\" && echo $MY_VAR"
   ]
  },
  {
   "cell_type": "code",
   "execution_count": null,
   "metadata": {},
   "outputs": [],
   "source": [
    "# Get all environment variables\n",
    "!env"
   ]
  },
  {
   "cell_type": "code",
   "execution_count": null,
   "metadata": {},
   "outputs": [],
   "source": [
    "# Alternative to `echo`\n",
    "!printenv USER"
   ]
  },
  {
   "cell_type": "code",
   "execution_count": null,
   "metadata": {},
   "outputs": [],
   "source": [
    "# Get the contents of a file\n",
    "!cat lecture_0.md"
   ]
  },
  {
   "cell_type": "code",
   "execution_count": null,
   "metadata": {},
   "outputs": [],
   "source": [
    "# Print contents of a file in reverse\n",
    "!tac lecture_0.md"
   ]
  },
  {
   "cell_type": "code",
   "execution_count": null,
   "metadata": {},
   "outputs": [],
   "source": [
    "# `less` and `more` commands are used to view the contents of a file in an interactive terminal session\n",
    "# Please try them out in a terminal emulator"
   ]
  },
  {
   "cell_type": "code",
   "execution_count": null,
   "metadata": {},
   "outputs": [],
   "source": [
    "# Create a file\n",
    "# `touch` is used to modify access and modification timestamps of files\n",
    "# It could also be used to create empty files\n",
    "!ls\n",
    "!touch new_file.txt && ls\n",
    "\n",
    "# ---\n",
    "!rm new_file.txt"
   ]
  },
  {
   "cell_type": "markdown",
   "metadata": {},
   "source": [
    "## Low-level filesystem"
   ]
  },
  {
   "cell_type": "code",
   "execution_count": null,
   "metadata": {},
   "outputs": [],
   "source": [
    "# Disk formatting\n",
    "\n",
    "# mkfs is used to format a disk (example: mkfs.ext4 /dev/sda1)\n",
    "# `df` command is used to display the amount of disk space available on the file system containing each file name argument\n",
    "# `-h` flag is used to display sizes in human readable format (e.g., 1K 234M 2G)\n",
    "!df -h"
   ]
  },
  {
   "cell_type": "code",
   "execution_count": null,
   "metadata": {},
   "outputs": [],
   "source": [
    "# Basic file structure\n",
    "print(\"User home directory:\", end=' ')\n",
    "!echo $HOME\n",
    "print(\"Root home directory: /root\", end=' ')\n",
    "print(\"Binary files: /bin OR /usr/bin (/bin is symlinked to /usr/bin)\", end=' ')"
   ]
  },
  {
   "cell_type": "code",
   "execution_count": null,
   "metadata": {},
   "outputs": [],
   "source": [
    "# Check file type\n",
    "!file lecture_0.md"
   ]
  },
  {
   "cell_type": "code",
   "execution_count": null,
   "metadata": {},
   "outputs": [],
   "source": [
    "# Check file permissions\n",
    "# https://chmod-calculator.com/\n",
    "!ls -l lecture_0.md"
   ]
  },
  {
   "cell_type": "code",
   "execution_count": null,
   "metadata": {},
   "outputs": [],
   "source": [
    "# Change file permissions\n",
    "!touch new_file.txt\n",
    "!ls -l new_file.txt\n",
    "\n",
    "# ---\n",
    "!chmod 777 new_file.txt\n",
    "! ls -l new_file.txt\n",
    "\n",
    "# ---\n",
    "!rm new_file.txt"
   ]
  },
  {
   "cell_type": "code",
   "execution_count": null,
   "metadata": {},
   "outputs": [],
   "source": [
    "# Change file ownership\n",
    "!touch new_file.txt\n",
    "!ls -l new_file.txt\n",
    "\n",
    "# ---\n",
    "#!sudo chown root new_file.txt\n",
    "!ls -l new_file.txt\n",
    "\n",
    "# ---\n",
    "!rm new_file.txt"
   ]
  },
  {
   "cell_type": "markdown",
   "metadata": {},
   "source": [
    "## Bash scripting"
   ]
  },
  {
   "cell_type": "markdown",
   "metadata": {},
   "source": [
    "Bash scripts are used to automate tasks. They are plain text files that contain a series of commands. The first line of the file should be the path to the chosen interpreter. For example, the following script will print the current date and time"
   ]
  },
  {
   "cell_type": "code",
   "execution_count": null,
   "metadata": {},
   "outputs": [],
   "source": [
    "# Shebangs direct the shell to use a specific interpreter to execute the script\n",
    "\n",
    "!echo \"#!/usr/bin/env bash\" > shebangs.sh\n",
    "!cat new_file.sh\n",
    "\n",
    "# ---\n",
    "!rm shebangs.sh"
   ]
  },
  {
   "cell_type": "code",
   "execution_count": null,
   "metadata": {},
   "outputs": [],
   "source": [
    "# Running scripts in the terminal requires the script to be executable\n",
    "\n",
    "!echo -e \"#!/usr/bin/env bash\\n\\necho Hello World!\\n\" > executable.sh  # -e flag is used to enable interpretation of backslash escapes\n",
    "# Backslash escapes are used to represent characters that are otherwise impossible to put into a string (e.g., newline, tab, backslash)\n",
    "print(\"Without executable (`x`) permission:\", end=' ')\n",
    "!./executable.sh\n",
    "\n",
    "# Giving executable permission to the script\n",
    "!chmod +x executable.sh  # u+x/g+x/o+x (user/group/others) [none for everyone]\n",
    "print(\"With executable (`x`) permission:\", end=' ')\n",
    "!./executable.sh\n",
    "\n",
    "# ---\n",
    "!rm executable.sh"
   ]
  },
  {
   "cell_type": "code",
   "execution_count": null,
   "metadata": {},
   "outputs": [],
   "source": [
    "# Reading input from the terminal\n",
    "\n",
    "!echo -e \"#!/usr/bin/env bash\\n\\nread -p \\\"Enter your name: \\\" username\\necho \\\"Hello \\$username!\\\"\" > input.sh\n",
    "!chmod +x input.sh\n",
    "\n",
    "# Cleanup is disabled to allow for interactive input\n",
    "# The next code block will clean up the fs"
   ]
  },
  {
   "cell_type": "code",
   "execution_count": null,
   "metadata": {},
   "outputs": [],
   "source": [
    "# ---\n",
    "!rm input.sh"
   ]
  },
  {
   "cell_type": "code",
   "execution_count": null,
   "metadata": {},
   "outputs": [],
   "source": [
    "# Append to a file\n",
    "\n",
    "!echo -e \"#!/usr/bin/env bash\\n\\necho \\\"I am the OG\\\"\" > append.sh\n",
    "print(\"Before appending:\", end=' ')\n",
    "!chmod +x append.sh\n",
    "!./append.sh\n",
    "!echo \"echo \\\"I'm appended!\\\"\" >> append.sh\n",
    "print(\"After appending:\", end=' ')\n",
    "!./append.sh\n",
    "\n",
    "# ---\n",
    "!rm append.sh"
   ]
  },
  {
   "cell_type": "markdown",
   "metadata": {},
   "source": [
    "## File structure"
   ]
  },
  {
   "cell_type": "markdown",
   "metadata": {},
   "source": [
    "Everything in GNU/Linux is under the root directory (denoted by `/`). The root directory contains several directories that are crucial for the system"
   ]
  },
  {
   "cell_type": "code",
   "execution_count": null,
   "metadata": {},
   "outputs": [],
   "source": [
    "# /bin and /usr/bin are directories that contain executable files\n",
    "separator = \"-----------------------\\n\"\n",
    "!ls / -l | grep bin | head -n1\n",
    "print(separator, \"ls /usr/bin:\")\n",
    "!ls /usr/bin | head -n10 | tail -n9"
   ]
  },
  {
   "cell_type": "markdown",
   "metadata": {},
   "source": [
    "## Users"
   ]
  },
  {
   "cell_type": "markdown",
   "metadata": {},
   "source": [
    "Users are the computer's clients. Each of them has their own username and groups assigned by the root user. The root user is the administrator of the system and has the highest privileges. The root user can create new users and assign them to groups. It can also change the password of any user (and nuke the system)"
   ]
  },
  {
   "cell_type": "code",
   "execution_count": null,
   "metadata": {},
   "outputs": [],
   "source": [
    "# `whoami` command is used to print the username of the current user\n",
    "separator = \"-----------------------\\n\"\n",
    "print(separator, \"Current user (`whoami`):\", end=' ')\n",
    "!whoami\n",
    "\n",
    "# `id` command is used to print the user and group IDs of the current user\n",
    "print(separator, \"Current user (`id`):\", end=' ')\n",
    "!id\n",
    "\n",
    "# `groups` command is used to print the groups a user is in\n",
    "print(separator, \"Current user (`groups`):\", end=' ')\n",
    "!id\n",
    "\n",
    "# `/etc/passwd` is a file that contains information about users\n",
    "print(separator, \"/etc/passwd entry for the current user:\")\n",
    "!cat /etc/passwd | grep $USER\n",
    "\n",
    "print(separator, \"/etc/passwd entry for the root user:\")\n",
    "!cat /etc/passwd | grep root\n"
   ]
  },
  {
   "cell_type": "markdown",
   "metadata": {},
   "source": [
    "## Stop it. Get some help."
   ]
  },
  {
   "cell_type": "markdown",
   "metadata": {},
   "source": [
    "For real. Get some help. And learn flags along the way"
   ]
  },
  {
   "cell_type": "code",
   "execution_count": null,
   "metadata": {},
   "outputs": [],
   "source": [
    "# Man pages are used to view the manual pages of commands\n",
    "print(\"man ls:\")\n",
    "!man ls | head -n 7 && echo -e \"-----\\nOUTPUT TRUNCATED\""
   ]
  },
  {
   "cell_type": "code",
   "execution_count": null,
   "metadata": {},
   "outputs": [],
   "source": [
    "# Many programs have flags that can be used to modify their behavior\n",
    "# `--help` (or `-h`) flag is used to display the help message of a program\n",
    "\n",
    "print(\"ls --help:\")\n",
    "!ls --help | head -n 7 && echo -e \"-----\\nOUTPUT TRUNCATED\""
   ]
  },
  {
   "cell_type": "code",
   "execution_count": null,
   "metadata": {},
   "outputs": [],
   "source": [
    "# Short/long flags\n",
    "separator = \"-----------------------\\n\"\n",
    "# Short flags are single character flags preceded by a single dash (`-`)\n",
    "# They could also be grouped together (e.g., `-l -a` could be written as `-la`)\n",
    "print(separator, \"ls -l -a:\")\n",
    "!ls -l -a\n",
    "print(separator, \"ls -la:\")\n",
    "!ls -la\n"
   ]
  }
 ],
 "metadata": {
  "kernelspec": {
   "display_name": "Python 3.10.4 ('venv': venv)",
   "language": "python",
   "name": "python3"
  },
  "language_info": {
   "codemirror_mode": {
    "name": "ipython",
    "version": 3
   },
   "file_extension": ".py",
   "mimetype": "text/x-python",
   "name": "python",
   "nbconvert_exporter": "python",
   "pygments_lexer": "ipython3",
   "version": "3.10.4"
  },
  "orig_nbformat": 4,
  "vscode": {
   "interpreter": {
    "hash": "bd1008a3eb2a332340714f65d0d1707f90a81f9d2ea39392efade3e2bc170074"
   }
  }
 },
 "nbformat": 4,
 "nbformat_minor": 2
}
