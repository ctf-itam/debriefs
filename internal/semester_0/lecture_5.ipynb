{
 "cells": [
  {
   "cell_type": "markdown",
   "metadata": {},
   "source": [
    "# Advanced GNU/Linux. Part 2"
   ]
  },
  {
   "cell_type": "markdown",
   "metadata": {},
   "source": [
    "## Terminal dorks\n",
    "\n",
    "### Terminal shortcuts that will save you a lot of time"
   ]
  },
  {
   "cell_type": "code",
   "execution_count": 1,
   "metadata": {},
   "outputs": [
    {
     "name": "stdout",
     "output_type": "stream",
     "text": [
      "Hello there!\n"
     ]
    }
   ],
   "source": [
    "# `!` runs terminal commands from Jupyter notebooks\n",
    "\n",
    "!echo Hello there!"
   ]
  },
  {
   "cell_type": "markdown",
   "metadata": {},
   "source": [
    "### Bangs!"
   ]
  },
  {
   "cell_type": "code",
   "execution_count": null,
   "metadata": {},
   "outputs": [],
   "source": [
    "# `!!` allows you to run previous commands you ran in the terminal\n",
    "#! [RUN IN YOUR TERMINAL EMULATOR]\n",
    "\n",
    "# ls -l\n",
    "# !!            # This will run the previous command\n",
    "# !?            # Same, but autocompletes anything you place afterwards\n",
    "# !<num>        # Reuse command by history entry # (`history <number of entries`)\n",
    "# !!:s^old^new  # Reuse the previous command and replace `old` with `new`\n",
    "# ls !:1        # Reuse n-th argument of the previous command\n",
    "# ls !$         # Reuse the last argument of the previous command"
   ]
  },
  {
   "cell_type": "markdown",
   "metadata": {},
   "source": [
    "### Pipes"
   ]
  },
  {
   "cell_type": "code",
   "execution_count": null,
   "metadata": {},
   "outputs": [],
   "source": [
    "# Pipes redirect stdout of one program to stdin of another (p0 | p1 > file.out)\n",
    "#! [RUN IN YOUR TERMINAL EMULATOR]\n",
    "\n",
    "# echo \"Hello there\" | wc -c\n",
    "# ç\n",
    "# ls -l | grep \"*.md\" | wc -l\n",
    "# echo \"${pwd}/..\" | xargs ls -l > filecount.prev.count"
   ]
  },
  {
   "cell_type": "markdown",
   "metadata": {},
   "source": [
    "## Quiz\n",
    "\n",
    "### What does this command do? `echo ~/dir0/ ~/dir1/ ~/dir2/ | xargs -n 1 cp -v ~/src/file.bin`"
   ]
  },
  {
   "cell_type": "markdown",
   "metadata": {},
   "source": [
    "## Keyboard shortcuts\n",
    "\n",
    "### CTRL + C\n",
    "\n",
    "Sends a SIGINT signal to the current process. This is the same as pressing the \"Stop\" button in the terminal.\n",
    "\n",
    "### Ctrl + Z\n",
    "\n",
    "Sends a SIGTSTP signal, which is the same as pressing the \"Suspend\" button in the terminal.\n",
    "\n",
    "### Ctrl + Q\n",
    "\n",
    "Resumes processes that were suspended by Ctrl + Z.\n",
    "\n",
    "### Ctrl + A\n",
    "\n",
    "Moves the cursor to the beginning of the line.\n",
    "\n",
    "### Ctrl + E\n",
    "\n",
    "Moves the cursor to the end of the line.\n",
    "\n",
    "### Ctrl + F\n",
    "\n",
    "Moves the cursor forward one character.\n",
    "\n",
    "### Ctrl + B\n",
    "\n",
    "Moves the cursor backward one character.\n",
    "\n",
    "### Ctrl + X\n",
    "\n",
    "Moves the cursor to the beginning of the line (and back to the current position if pressed again).\n",
    "\n",
    "### Ctrl + L\n",
    "\n",
    "Clears the screen (with the ability to scroll back up, in contrast to `clear`).\n",
    "\n",
    "### Ctrl + D\n",
    "\n",
    "Closes the current terminal session.\n"
   ]
  },
  {
   "cell_type": "markdown",
   "metadata": {},
   "source": [
    "## SystemD, daemons, and .service files"
   ]
  },
  {
   "cell_type": "markdown",
   "metadata": {},
   "source": [
    "### What is SystemD?\n",
    "\n",
    "SystemD is a software suite that provides an array of compoments for operating systems with the Linux kernel. Its goal is to unify service behavior and behavior across different configurations and distributions. It has an init system, a logging system, a device manager, a timer system, and a configuration system"
   ]
  },
  {
   "cell_type": "markdown",
   "metadata": {},
   "source": [
    "## .service files\n",
    "\n",
    "A unit configuration file whose name ends in \".service\" encodes information about a process controlled and supervised by systemd\n",
    "\n",
    "### Example .service file\n",
    "```systemd\n",
    "[Unit]\n",
    "Description=OpenSSH Agent\n",
    "Documentation=man:ssh-agent(1)\n",
    "Before=graphical-session-pre.target\n",
    "ConditionPathExists=/etc/X11/Xsession.options\n",
    "Wants=dbus.socket\n",
    "After=dbus.socket\n",
    "\n",
    "[Service]\n",
    "ExecStart=/usr/lib/openssh/agent-launch start\n",
    "ExecStopPost=/usr/lib/openssh/agent-launch stop\n",
    "```"
   ]
  },
  {
   "cell_type": "markdown",
   "metadata": {},
   "source": [
    "## Launch a SystemD service\n",
    "\n",
    "### Systemd services are launched with the `systemctl start` command\n",
    "\n",
    "Examples:\n",
    "- `$ systemctl --user start syncthing.service`\n",
    "- `# systemctl start docker.service`"
   ]
  },
  {
   "cell_type": "markdown",
   "metadata": {},
   "source": [
    "## Autostart a SystemD service\n",
    "\n",
    "### Systemd services are directed to autostart with the `systemctl enable` command\n",
    "\n",
    "Examples:\n",
    "- `$ systemctl --user enable syncthing.service`\n",
    "- `# systemctl enable gdm.service`"
   ]
  },
  {
   "cell_type": "markdown",
   "metadata": {},
   "source": [
    "## Autostart and launch a SystemD service\n",
    "\n",
    "### Systemd services are autostarted+launched with the `systemctl enable --now` command\n",
    "\n",
    "Examples:\n",
    "- `$ systemctl --user enable --now syncthing.service`\n",
    "- `# systemctl enable --now gdm.service`"
   ]
  },
  {
   "cell_type": "markdown",
   "metadata": {},
   "source": []
  }
 ],
 "metadata": {
  "kernelspec": {
   "display_name": "Python 3.11.0 64-bit",
   "language": "python",
   "name": "python3"
  },
  "language_info": {
   "codemirror_mode": {
    "name": "ipython",
    "version": 3
   },
   "file_extension": ".py",
   "mimetype": "text/x-python",
   "name": "python",
   "nbconvert_exporter": "python",
   "pygments_lexer": "ipython3",
   "version": "3.11.0"
  },
  "orig_nbformat": 4,
  "vscode": {
   "interpreter": {
    "hash": "5c7b89af1651d0b8571dde13640ecdccf7d5a6204171d6ab33e7c296e100e08a"
   }
  }
 },
 "nbformat": 4,
 "nbformat_minor": 2
}
